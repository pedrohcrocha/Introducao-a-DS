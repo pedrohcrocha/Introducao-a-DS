{
 "cells": [
  {
   "cell_type": "markdown",
   "metadata": {},
   "source": [
    "                              Universidade Federal da Paraíba - UFPB\n",
    "\n",
    "                        Programa de Pós-Graduação em Economia - PPGE\n",
    "\n",
    "                                 Introdução à Data Science \n",
    "\n",
    "             Modelos de Machine Learning - Naives Bayes (NB) e k-Nearest Neighbour (kNN)\n"
   ]
  },
  {
   "cell_type": "markdown",
   "metadata": {},
   "source": [
    "### O que é Machine Learning ?\n",
    "\n",
    "Machine Learning é um campo da computação que envolve o processo de aprendizagem de inteligência artificial com o intuito de analisar dados, identificar padrões, prever informações e, sobretudo, interagir com atividades humanas.\n",
    "É a extração de conhecimento a partir de dados utilizando ferramentas dos campos da estatística, inteligência artificial e ciência da computação.\n",
    "\n",
    "\"Machine Learning é o campo de estudo que fornece aos computadores a habilidade de aprender sem serem explicitamente programados\" Arthur L. Samuel, 1959\n"
   ]
  },
  {
   "cell_type": "markdown",
   "metadata": {},
   "source": [
    "### Para quê se usa Machine Learning ? \n",
    "\n",
    "O uso de algoritmos de machine learning está inserida na vida cotidiana, mas pouco se faz notar. Filtragem de Spams na caixa de e-mail, recomendação de músicas e filmes nos aplicativos de streaming e reconhecimento facial são alguns poucos exemplos do vasto uso de algoritmos de ML no dia-a-dia. Alguns exemplos são:\n",
    "\n",
    "## 1.1. No mundo dos negócios\n",
    "    1. Filmes - Netflix\n",
    "    2. Música - Spotify\n",
    "    3. Comida - iFood\n",
    "    4. Produtos - Amazon\n",
    "    5. Reconhecimento facial - Facebook\n",
    "    \n",
    "## 1.2. Na ciência\n",
    "    1. Entender estrelas\n",
    "    2. Encontrar planetas distantes\n",
    "    3. Descobrir novas partículas\n",
    "    4. Analisar sequências de DNA\n",
    "    5. Fornecer tratamentos personalizados para o câncer    "
   ]
  },
  {
   "cell_type": "markdown",
   "metadata": {},
   "source": [
    "## Corolário - Reconhecimento facial\n",
    "* O problema só foi solucionado em 2001\n",
    "* O computador percebe os pixels de um modo totalmente diferente dos humanos\n",
    "* Esta diferença torna praticamente impossível que um humano desenvolva regras de decisão para o reconhecimento facial\n",
    "* O aprendizado de máquina soluciona este problema a partir de um grande número de imagens de rostos de pessoas"
   ]
  },
  {
   "cell_type": "markdown",
   "metadata": {},
   "source": [
    "### Quais são os tipos de sistemas de Machine Learning que existem? \n",
    "São muitos os tipos de sistemas de Machine Learning e os critérios que definem um sistema não são exclusivos.\n",
    "No entanto, pode-se ressaltar dois tipos fundamentais:\n",
    "\n",
    "1) **Aprendizagem Supervisionada**: Na aprendizagem supervisionada, os dados que serão utilizados no algoritmo já\n",
    "incluem os *labels*. Algumas tarefas comuns para esse tipo de aprendizagem são:\n",
    "\n",
    "        1.1) Classificação: Classificar uma variável chamada de classe (geralmente ditocômica) baseado em outras características.\n",
    "        \n",
    "        1.2) Previsão: Prever um valor númerico de uma variável dado um conjunto de preditores. Prever o preço de um carro com base na quilometragem, marca, ano de fabricação, etc. é um exemplo de tarefa de previsão.\n",
    "        \n",
    "        \n",
    "2) **Aprendizagem Não-Supervisionada**: Na aprendizagem não-supervisionada, os dados não são rotulados. Uma maneira de olhar é imaginar que o sistema tem que aprender sem um professor. Aqui, a atividade mais comum é *clustering* (agrupamento) de dados."
   ]
  },
  {
   "cell_type": "markdown",
   "metadata": {},
   "source": [
    "## Algoritmo Naive-Bayes\n",
    "\n",
    "O **algoritmo Naive-Bayes (NB)** é um algoritmo de aprendizagem supervisionada de classificação. É utilizado, principalmente, em atividades de filtragem de spam, separação de documentos, etc. O Naive-Bayes faz uso de uma aborgadem probabilística, fundamentada no Teorema de Bayes. \n",
    "\n",
    "O NB é comumente tratado como um algoritmo ML de entrada, pela sua facilidade de entendimento do método, implementação do algoritmo e interpretação dos resultados. Ele também é considerado um algoritmo rápido, devido ao fato de que seus cálculos restringem-se ao cálculo de probabilidades *a priori* e *a posteriori*, que não exigem muito tempo computacional. Por fim, o NB é capaz de obter uma boa precisão nas classificações em bases pequenas, porém, para bases grandes (>1 milhão de linhas), existem algoritmos que performam melhor. \n",
    "\n",
    "Podemos avaliar as características do algoritmo Naive-Bayes utilizando um exemplo clássico: Decidir se devemos conceber ou não um empréstimo ao um indivíduo, baseado em um conjunto de características (preditores). \n",
    "\n",
    "Utilizaremos um exemplo prático para demonstrar a utilização do algoritmo. Muitas vezes, os algoritmos de Machine Learning são encarados como \"caixas-pretas\", ou seja, pegamos os dados, jogamos na caixa e obtemos o resultado. No entanto, é importante conhecermos o que está dentro desta \"caixa-preta\" para melhor regulariazarmos os hiperparâmetros dos modelos. \n",
    "\n",
    "A documentação da biblioteca *scikit learn* apresenta as demonstrações do [algoritmo Naive-Bayes](https://scikit-learn.org/stable/modules/naive_bayes.html)."
   ]
  },
  {
   "cell_type": "markdown",
   "metadata": {},
   "source": [
    "# Exemplo de algoritmo\n",
    "O exemplo que iremos abordar estamos abordando o problema de um agência financeira que está classificando bons e maus pagadores, baseado em algumas características, tais como renda, idade e tamanho do emprestísmo, de credores passados."
   ]
  },
  {
   "cell_type": "code",
   "execution_count": 22,
   "metadata": {},
   "outputs": [],
   "source": [
    "# Pacotes necessários\n",
    "import pandas as pd"
   ]
  },
  {
   "cell_type": "code",
   "execution_count": 23,
   "metadata": {},
   "outputs": [
    {
     "data": {
      "text/html": [
       "<div>\n",
       "<style scoped>\n",
       "    .dataframe tbody tr th:only-of-type {\n",
       "        vertical-align: middle;\n",
       "    }\n",
       "\n",
       "    .dataframe tbody tr th {\n",
       "        vertical-align: top;\n",
       "    }\n",
       "\n",
       "    .dataframe thead th {\n",
       "        text-align: right;\n",
       "    }\n",
       "</style>\n",
       "<table border=\"1\" class=\"dataframe\">\n",
       "  <thead>\n",
       "    <tr style=\"text-align: right;\">\n",
       "      <th></th>\n",
       "      <th>clientid</th>\n",
       "      <th>income</th>\n",
       "      <th>age</th>\n",
       "      <th>loan</th>\n",
       "      <th>default</th>\n",
       "    </tr>\n",
       "  </thead>\n",
       "  <tbody>\n",
       "    <tr>\n",
       "      <th>count</th>\n",
       "      <td>2000.000000</td>\n",
       "      <td>2000.000000</td>\n",
       "      <td>1997.000000</td>\n",
       "      <td>2000.000000</td>\n",
       "      <td>2000.000000</td>\n",
       "    </tr>\n",
       "    <tr>\n",
       "      <th>mean</th>\n",
       "      <td>1000.500000</td>\n",
       "      <td>45331.600018</td>\n",
       "      <td>40.807559</td>\n",
       "      <td>4444.369695</td>\n",
       "      <td>0.141500</td>\n",
       "    </tr>\n",
       "    <tr>\n",
       "      <th>std</th>\n",
       "      <td>577.494589</td>\n",
       "      <td>14326.327119</td>\n",
       "      <td>13.624469</td>\n",
       "      <td>3045.410024</td>\n",
       "      <td>0.348624</td>\n",
       "    </tr>\n",
       "    <tr>\n",
       "      <th>min</th>\n",
       "      <td>1.000000</td>\n",
       "      <td>20014.489470</td>\n",
       "      <td>-52.423280</td>\n",
       "      <td>1.377630</td>\n",
       "      <td>0.000000</td>\n",
       "    </tr>\n",
       "    <tr>\n",
       "      <th>25%</th>\n",
       "      <td>500.750000</td>\n",
       "      <td>32796.459717</td>\n",
       "      <td>28.990415</td>\n",
       "      <td>1939.708847</td>\n",
       "      <td>0.000000</td>\n",
       "    </tr>\n",
       "    <tr>\n",
       "      <th>50%</th>\n",
       "      <td>1000.500000</td>\n",
       "      <td>45789.117313</td>\n",
       "      <td>41.317159</td>\n",
       "      <td>3974.719419</td>\n",
       "      <td>0.000000</td>\n",
       "    </tr>\n",
       "    <tr>\n",
       "      <th>75%</th>\n",
       "      <td>1500.250000</td>\n",
       "      <td>57791.281668</td>\n",
       "      <td>52.587040</td>\n",
       "      <td>6432.410625</td>\n",
       "      <td>0.000000</td>\n",
       "    </tr>\n",
       "    <tr>\n",
       "      <th>max</th>\n",
       "      <td>2000.000000</td>\n",
       "      <td>69995.685578</td>\n",
       "      <td>63.971796</td>\n",
       "      <td>13766.051239</td>\n",
       "      <td>1.000000</td>\n",
       "    </tr>\n",
       "  </tbody>\n",
       "</table>\n",
       "</div>"
      ],
      "text/plain": [
       "          clientid        income          age          loan      default\n",
       "count  2000.000000   2000.000000  1997.000000   2000.000000  2000.000000\n",
       "mean   1000.500000  45331.600018    40.807559   4444.369695     0.141500\n",
       "std     577.494589  14326.327119    13.624469   3045.410024     0.348624\n",
       "min       1.000000  20014.489470   -52.423280      1.377630     0.000000\n",
       "25%     500.750000  32796.459717    28.990415   1939.708847     0.000000\n",
       "50%    1000.500000  45789.117313    41.317159   3974.719419     0.000000\n",
       "75%    1500.250000  57791.281668    52.587040   6432.410625     0.000000\n",
       "max    2000.000000  69995.685578    63.971796  13766.051239     1.000000"
      ]
     },
     "execution_count": 23,
     "metadata": {},
     "output_type": "execute_result"
    }
   ],
   "source": [
    "# Abrindo a base\n",
    "base = pd.read_csv(\"https://raw.githubusercontent.com/pedrohcrocha/Introducao-a-DS/master/credit-data.csv\", sep=',')\n",
    "# Resumo estatístico\n",
    "base.describe()"
   ]
  },
  {
   "cell_type": "code",
   "execution_count": 24,
   "metadata": {},
   "outputs": [
    {
     "data": {
      "text/html": [
       "<div>\n",
       "<style scoped>\n",
       "    .dataframe tbody tr th:only-of-type {\n",
       "        vertical-align: middle;\n",
       "    }\n",
       "\n",
       "    .dataframe tbody tr th {\n",
       "        vertical-align: top;\n",
       "    }\n",
       "\n",
       "    .dataframe thead th {\n",
       "        text-align: right;\n",
       "    }\n",
       "</style>\n",
       "<table border=\"1\" class=\"dataframe\">\n",
       "  <thead>\n",
       "    <tr style=\"text-align: right;\">\n",
       "      <th></th>\n",
       "      <th>clientid</th>\n",
       "      <th>income</th>\n",
       "      <th>age</th>\n",
       "      <th>loan</th>\n",
       "      <th>default</th>\n",
       "    </tr>\n",
       "  </thead>\n",
       "  <tbody>\n",
       "    <tr>\n",
       "      <th>count</th>\n",
       "      <td>2000.000000</td>\n",
       "      <td>2000.000000</td>\n",
       "      <td>1997.000000</td>\n",
       "      <td>2000.000000</td>\n",
       "      <td>2000.000000</td>\n",
       "    </tr>\n",
       "    <tr>\n",
       "      <th>mean</th>\n",
       "      <td>1000.500000</td>\n",
       "      <td>45331.600018</td>\n",
       "      <td>40.927700</td>\n",
       "      <td>4444.369695</td>\n",
       "      <td>0.141500</td>\n",
       "    </tr>\n",
       "    <tr>\n",
       "      <th>std</th>\n",
       "      <td>577.494589</td>\n",
       "      <td>14326.327119</td>\n",
       "      <td>13.261825</td>\n",
       "      <td>3045.410024</td>\n",
       "      <td>0.348624</td>\n",
       "    </tr>\n",
       "    <tr>\n",
       "      <th>min</th>\n",
       "      <td>1.000000</td>\n",
       "      <td>20014.489470</td>\n",
       "      <td>18.055189</td>\n",
       "      <td>1.377630</td>\n",
       "      <td>0.000000</td>\n",
       "    </tr>\n",
       "    <tr>\n",
       "      <th>25%</th>\n",
       "      <td>500.750000</td>\n",
       "      <td>32796.459717</td>\n",
       "      <td>29.072097</td>\n",
       "      <td>1939.708847</td>\n",
       "      <td>0.000000</td>\n",
       "    </tr>\n",
       "    <tr>\n",
       "      <th>50%</th>\n",
       "      <td>1000.500000</td>\n",
       "      <td>45789.117313</td>\n",
       "      <td>41.317159</td>\n",
       "      <td>3974.719419</td>\n",
       "      <td>0.000000</td>\n",
       "    </tr>\n",
       "    <tr>\n",
       "      <th>75%</th>\n",
       "      <td>1500.250000</td>\n",
       "      <td>57791.281668</td>\n",
       "      <td>52.587040</td>\n",
       "      <td>6432.410625</td>\n",
       "      <td>0.000000</td>\n",
       "    </tr>\n",
       "    <tr>\n",
       "      <th>max</th>\n",
       "      <td>2000.000000</td>\n",
       "      <td>69995.685578</td>\n",
       "      <td>63.971796</td>\n",
       "      <td>13766.051239</td>\n",
       "      <td>1.000000</td>\n",
       "    </tr>\n",
       "  </tbody>\n",
       "</table>\n",
       "</div>"
      ],
      "text/plain": [
       "          clientid        income          age          loan      default\n",
       "count  2000.000000   2000.000000  1997.000000   2000.000000  2000.000000\n",
       "mean   1000.500000  45331.600018    40.927700   4444.369695     0.141500\n",
       "std     577.494589  14326.327119    13.261825   3045.410024     0.348624\n",
       "min       1.000000  20014.489470    18.055189      1.377630     0.000000\n",
       "25%     500.750000  32796.459717    29.072097   1939.708847     0.000000\n",
       "50%    1000.500000  45789.117313    41.317159   3974.719419     0.000000\n",
       "75%    1500.250000  57791.281668    52.587040   6432.410625     0.000000\n",
       "max    2000.000000  69995.685578    63.971796  13766.051239     1.000000"
      ]
     },
     "execution_count": 24,
     "metadata": {},
     "output_type": "execute_result"
    }
   ],
   "source": [
    "# Como temos idade negativa, podemos preencher as linhas com idade negativa com a média (sem idades negativas)\n",
    "MediaSemIdadeNegativa = base['age'][base.age > 0].mean()\n",
    "base.loc[base.age < 0, 'age'] = MediaSemIdadeNegativa\n",
    "base.describe()"
   ]
  },
  {
   "cell_type": "code",
   "execution_count": 25,
   "metadata": {},
   "outputs": [
    {
     "data": {
      "text/html": [
       "<div>\n",
       "<style scoped>\n",
       "    .dataframe tbody tr th:only-of-type {\n",
       "        vertical-align: middle;\n",
       "    }\n",
       "\n",
       "    .dataframe tbody tr th {\n",
       "        vertical-align: top;\n",
       "    }\n",
       "\n",
       "    .dataframe thead th {\n",
       "        text-align: right;\n",
       "    }\n",
       "</style>\n",
       "<table border=\"1\" class=\"dataframe\">\n",
       "  <thead>\n",
       "    <tr style=\"text-align: right;\">\n",
       "      <th></th>\n",
       "      <th>clientid</th>\n",
       "      <th>income</th>\n",
       "      <th>age</th>\n",
       "      <th>loan</th>\n",
       "      <th>default</th>\n",
       "    </tr>\n",
       "  </thead>\n",
       "  <tbody>\n",
       "    <tr>\n",
       "      <th>count</th>\n",
       "      <td>2000.000000</td>\n",
       "      <td>2000.000000</td>\n",
       "      <td>2000.000000</td>\n",
       "      <td>2000.000000</td>\n",
       "      <td>2000.000000</td>\n",
       "    </tr>\n",
       "    <tr>\n",
       "      <th>mean</th>\n",
       "      <td>1000.500000</td>\n",
       "      <td>45331.600018</td>\n",
       "      <td>40.927700</td>\n",
       "      <td>4444.369695</td>\n",
       "      <td>0.141500</td>\n",
       "    </tr>\n",
       "    <tr>\n",
       "      <th>std</th>\n",
       "      <td>577.494589</td>\n",
       "      <td>14326.327119</td>\n",
       "      <td>13.251870</td>\n",
       "      <td>3045.410024</td>\n",
       "      <td>0.348624</td>\n",
       "    </tr>\n",
       "    <tr>\n",
       "      <th>min</th>\n",
       "      <td>1.000000</td>\n",
       "      <td>20014.489470</td>\n",
       "      <td>18.055189</td>\n",
       "      <td>1.377630</td>\n",
       "      <td>0.000000</td>\n",
       "    </tr>\n",
       "    <tr>\n",
       "      <th>25%</th>\n",
       "      <td>500.750000</td>\n",
       "      <td>32796.459717</td>\n",
       "      <td>29.102161</td>\n",
       "      <td>1939.708847</td>\n",
       "      <td>0.000000</td>\n",
       "    </tr>\n",
       "    <tr>\n",
       "      <th>50%</th>\n",
       "      <td>1000.500000</td>\n",
       "      <td>45789.117313</td>\n",
       "      <td>41.300710</td>\n",
       "      <td>3974.719419</td>\n",
       "      <td>0.000000</td>\n",
       "    </tr>\n",
       "    <tr>\n",
       "      <th>75%</th>\n",
       "      <td>1500.250000</td>\n",
       "      <td>57791.281668</td>\n",
       "      <td>52.582340</td>\n",
       "      <td>6432.410625</td>\n",
       "      <td>0.000000</td>\n",
       "    </tr>\n",
       "    <tr>\n",
       "      <th>max</th>\n",
       "      <td>2000.000000</td>\n",
       "      <td>69995.685578</td>\n",
       "      <td>63.971796</td>\n",
       "      <td>13766.051239</td>\n",
       "      <td>1.000000</td>\n",
       "    </tr>\n",
       "  </tbody>\n",
       "</table>\n",
       "</div>"
      ],
      "text/plain": [
       "          clientid        income          age          loan      default\n",
       "count  2000.000000   2000.000000  2000.000000   2000.000000  2000.000000\n",
       "mean   1000.500000  45331.600018    40.927700   4444.369695     0.141500\n",
       "std     577.494589  14326.327119    13.251870   3045.410024     0.348624\n",
       "min       1.000000  20014.489470    18.055189      1.377630     0.000000\n",
       "25%     500.750000  32796.459717    29.102161   1939.708847     0.000000\n",
       "50%    1000.500000  45789.117313    41.300710   3974.719419     0.000000\n",
       "75%    1500.250000  57791.281668    52.582340   6432.410625     0.000000\n",
       "max    2000.000000  69995.685578    63.971796  13766.051239     1.000000"
      ]
     },
     "execution_count": 25,
     "metadata": {},
     "output_type": "execute_result"
    }
   ],
   "source": [
    "# Para conferir, pela contagem, quee a coluna 'Age' tem valores 'nan' ou 'missing'\n",
    "base.loc[pd.isnull(base['age'])]\n",
    "\n",
    "# Substituindo esses valores pela a média (sem NaN)\n",
    "import numpy as np\n",
    "MediaSemNaN = np.nanmean(base['age'])\n",
    "base.loc[pd.isnull(base['age']), 'age'] = MediaSemNaN\n",
    "base.describe()"
   ]
  },
  {
   "cell_type": "code",
   "execution_count": 26,
   "metadata": {},
   "outputs": [],
   "source": [
    "# Temos que dividir em regressores (X) e regressando (y)\n",
    "X = base.iloc[:, 1:4].values\n",
    "y = base.iloc[:,4].values"
   ]
  },
  {
   "cell_type": "code",
   "execution_count": 27,
   "metadata": {},
   "outputs": [],
   "source": [
    "# Temos que dividir as bases em treino e teste.\n",
    "from sklearn.model_selection import train_test_split\n",
    "X_treino, X_teste, y_treino, y_teste = train_test_split(X, y, test_size=0.2, random_state=10)"
   ]
  },
  {
   "cell_type": "code",
   "execution_count": 28,
   "metadata": {},
   "outputs": [],
   "source": [
    "# Importando o método Naive Bayes\n",
    "from sklearn.naive_bayes import BernoulliNB\n",
    "NB = BernoulliNB()"
   ]
  },
  {
   "cell_type": "code",
   "execution_count": 29,
   "metadata": {},
   "outputs": [
    {
     "data": {
      "text/plain": [
       "BernoulliNB(alpha=1.0, binarize=0.0, class_prior=None, fit_prior=True)"
      ]
     },
     "execution_count": 29,
     "metadata": {},
     "output_type": "execute_result"
    }
   ],
   "source": [
    "# Treinamos o algoritmo fornecendo as bases de treino\n",
    "NB.fit(X_treino,y_treino)"
   ]
  },
  {
   "cell_type": "code",
   "execution_count": 30,
   "metadata": {},
   "outputs": [],
   "source": [
    "# Agora, dado que o algoritmo foi treinado, podemos fazer nossa previsão\n",
    "y_treino_pred = NB.predict(X_teste)"
   ]
  },
  {
   "cell_type": "markdown",
   "metadata": {},
   "source": [
    "### Medidas de Avaliação de Performance\n",
    "\n",
    "Uma outra maneira de avaliar o modelo, mais precisa, é pela **matriz de confusão**. É uma matriz que mostra as frequências de classificação para cada classe do modelo. São elas:\n",
    "* **Verdadeiro positivo (TP)** - a classe que queremos prever foi prevista corretamente\n",
    "* **Falso positivo (FP)** - a classe que queremos prever foi prevista incorretamente\n",
    "* **Verdadeiro negativo (TN)** - a classe que não queremos prever foi prevista corretamente\n",
    "* **Falso negativo (FN)** - a classe que não queremos prever foi prevista incorretamente"
   ]
  },
  {
   "cell_type": "markdown",
   "metadata": {},
   "source": [
    "### Recall\n",
    "Fornece a proporção dos positivos que foi prevista corretamente. Em outras palavras, nos diz o quão bom é o modelo para do ponto de vista das previsões positivas corretas. É calculado pela fórmula:\n",
    "\n",
    "\\begin{align}\n",
    "Recall = \\frac{TP}{TP+FN}\n",
    "\\end{align}"
   ]
  },
  {
   "cell_type": "markdown",
   "metadata": {},
   "source": [
    "### Precisão\n",
    "Fornece a proporção de classificações positivas que foi de fato correta. É calculada pela fórmula:\n",
    "\n",
    "\\begin{align}\n",
    "Precision = \\frac{TP}{TP+FP}\n",
    "\\end{align}"
   ]
  },
  {
   "cell_type": "code",
   "execution_count": 44,
   "metadata": {},
   "outputs": [
    {
     "name": "stdout",
     "output_type": "stream",
     "text": [
      "Acurácia: 85.5%\n",
      "Precisão: 0.0%\n"
     ]
    }
   ],
   "source": [
    "# Para avaliar se a performance do algoritmo foi satisfatória, devemos verificar algumas métricas\n",
    "from sklearn.metrics import accuracy_score, precision_score, confusion_matrix\n",
    "\n",
    "acuracia = accuracy_score(y_treino_pred, y_teste)*100\n",
    "precisao = precision_score(y_treino_pred, y_teste)*100\n",
    "\n",
    "print(\"Acurácia: {}%\".format(acuracia))\n",
    "print('Precisão: {}%'.format(precisao))"
   ]
  },
  {
   "cell_type": "code",
   "execution_count": 90,
   "metadata": {},
   "outputs": [
    {
     "data": {
      "text/plain": [
       "array([[342,  58],\n",
       "       [  0,   0]])"
      ]
     },
     "execution_count": 90,
     "metadata": {},
     "output_type": "execute_result"
    }
   ],
   "source": [
    "# Matriz de Confusão\n",
    "confusion_matrix(y_treino_pred, y_teste)"
   ]
  },
  {
   "cell_type": "markdown",
   "metadata": {},
   "source": [
    "# 4. k-Nearest Neighbors\n",
    "\n",
    "É um dos algoritmos mais simples de aprendizado de máquina supervisionado de classificação. O primeiro passo é fornecer uma base de dados com inputs e outputs para formar o conjunto de treinamento do modelo. Com base neste conjunto de dados o modelo 'aprende' a classificar novos inputs. À medida que fornecemos novos inputs, o algoritmo procura pelos k vizinhos mais próximos, e prevê a classificação destes novos inputs de acordo com os k vizinhos mais próximos encontrados."
   ]
  },
  {
   "cell_type": "markdown",
   "metadata": {},
   "source": [
    "## 4.1. Objetivo\n",
    "\n",
    "Construir um modelo de aprendizado de máquina que, a partir de um conjunto de dados, conhecido como conjunto de treinamento, consiga prever a classificação de novos dados fornecidos ao modelo."
   ]
  },
  {
   "cell_type": "markdown",
   "metadata": {},
   "source": [
    "## 4.2. Treinando e testando o modelo\n",
    "\n",
    "Antes de aplicarmos o modelo, precisamos saber se podemos confiar nas suas previsões. Não podemos usar o conjunto de dados fornecido para o treinamento do algoritmo para testá-lo, uma vez que o modelo lembraria de todos os dados e acertaria todas as suas previsões.\n",
    "Para testar o modelo, precisamos fornecer dados novos mas dados para os quais conhecemos os outpus. O procedimento geralmente utilizado é dividir o conjuntos de dados disponível em duas partes. Uma parte é utilizada para construir o modelo de aprendizado de máquina, e é chamada de **conjunto de treinamento** ou **dados de treinamento**. A outra parte é usada para avaliar o quão bem o modelo funciona, e é chamada de **conjunto de teste** ou **dados de teste**."
   ]
  },
  {
   "cell_type": "code",
   "execution_count": null,
   "metadata": {},
   "outputs": [],
   "source": [
    "# 5. Exemplo prático\n",
    "\n",
    "Começamos importando os pacotes necessários para desenvolver o modelo de k-NN:"
   ]
  },
  {
   "cell_type": "code",
   "execution_count": null,
   "metadata": {},
   "outputs": [],
   "source": [
    "import numpy as np\n",
    "import pandas as pd\n",
    "from matplotlib import pyplot as plt\n",
    "from sklearn.datasets import load_breast_cancer\n",
    "from sklearn.metrics import confusion_matrix, precision_score, accuracy_score,recall_score, f1_score, classification_report\n",
    "from sklearn.neighbors import KNeighborsClassifier\n",
    "from sklearn.model_selection import train_test_split\n",
    "import seaborn as sns\n",
    "sns.set()"
   ]
  },
  {
   "cell_type": "markdown",
   "metadata": {},
   "source": [
    "## Exemplo \n",
    "Para este exemplo foi utilizada a base de dados de câncer de mama do módulo `sklearn.datasets`. A base de dados classifica os tumores em duas categorias, maligno e benigno e possui 568 inputs com 30 características para cada tumor."
   ]
  },
  {
   "cell_type": "code",
   "execution_count": null,
   "metadata": {},
   "outputs": [],
   "source": [
    "breast_cancer = load_breast_cancer()\n",
    "df = pd.DataFrame(breast_cancer.data, columns=breast_cancer.feature_names)\n",
    "df.head(5)"
   ]
  },
  {
   "cell_type": "markdown",
   "metadata": {},
   "source": [
    "## 5.2. Analisando os dados\n",
    "\n",
    "Para simplificar o modelo, escolhemos duas dessas características aleatoriamente, 'área média' e 'compacidade média'. Plotando os dados em um gráfico de dispersão podemos ver que o modelo de k-NN é adequado para este caso."
   ]
  },
  {
   "cell_type": "code",
   "execution_count": null,
   "metadata": {},
   "outputs": [],
   "source": [
    "sns.scatterplot(x='mean area', y='mean compactness', data=df)"
   ]
  },
  {
   "cell_type": "markdown",
   "metadata": {},
   "source": [
    "## 5.3. O conjunto de treinamento\n",
    "\n",
    "No `sklearn`, geralmente denotamos os dados com um X maiúsculo, enquanto os rótulos ou classificações são denotadas por um y minúsculo. Isso é inspirado na formulação matemática de função, *f(x)=y*, na qual *x* é o input e *y* é o output. O X é maiúsculo pois refere-se a uma matriz, enquanto y é minúsculo pois refere-se a um vetor.\n",
    "\n",
    "Note que atribuímos valores numéricos para que o modelo consiga interpretar os dados, 0 para tumores malignos e 1 para tumores benignos."
   ]
  },
  {
   "cell_type": "code",
   "execution_count": null,
   "metadata": {},
   "outputs": [],
   "source": [
    "X = pd.DataFrame(breast_cancer.data, columns=breast_cancer.feature_names)\n",
    "X = X[['mean area', 'mean compactness']]\n",
    "y = pd.Categorical.from_codes(breast_cancer.target, breast_cancer.target_names)\n",
    "y = pd.get_dummies(y, drop_first=True)"
   ]
  },
  {
   "cell_type": "markdown",
   "metadata": {},
   "source": [
    "Agora, dividimos a base de dados para treinar e testar o algoritmo. A função `train_test_split` embaralha os dados e, por padrão, determina 75% da base de dados original para o **conjunto de terinamento** e 25% para o **conjunto de teste**."
   ]
  },
  {
   "cell_type": "code",
   "execution_count": null,
   "metadata": {},
   "outputs": [],
   "source": [
    "X_train, X_test, y_train, y_test = train_test_split(X, y, random_state=1)"
   ]
  },
  {
   "cell_type": "markdown",
   "metadata": {},
   "source": [
    "## 5.4. O modelo\n",
    "\n",
    "Definimos `KNeighborsClassifier` para procurar pelos 5 vizinhos mais próximos. Além disso, informamos explicitamente para o classificador utilizar a distância Euclidiana para determinar a proximidade entre os pontos da vizinhança.\n",
    "\n",
    "\\begin{align}\n",
    "Distância Euclidiana = \\sqrt{\\sum_{i=1}^k(x_i-y_i)²}\n",
    "\\end{align}\n",
    "\n",
    "Outros métodos para o cálculo da distância são:\n",
    "* Manhattan\n",
    "* Minkowski\n",
    "* Hamming"
   ]
  },
  {
   "cell_type": "code",
   "execution_count": null,
   "metadata": {},
   "outputs": [],
   "source": [
    "knn = KNeighborsClassifier(n_neighbors=5, metric='euclidean')\n",
    "knn.fit(X_train, y_train.values.ravel())"
   ]
  },
  {
   "cell_type": "markdown",
   "metadata": {},
   "source": [
    "## 5.5. Previsão e avaliação do modelo\n",
    "\n",
    "Usando o nosso modelo já treinado, podemos prever se um tumor é benigno ou maligno com base em novos valores médios da área e da compacidade do tumor, provenientes do **conjunto de teste**."
   ]
  },
  {
   "cell_type": "code",
   "execution_count": null,
   "metadata": {},
   "outputs": [],
   "source": [
    "y_pred = knn.predict(X_test)"
   ]
  },
  {
   "cell_type": "markdown",
   "metadata": {},
   "source": [
    "Podemos comparar visualmente as previsões feitas pelo modelo com a amostra do conjunto de treinamento pelos seus respectivos gráficos de dispersão."
   ]
  },
  {
   "cell_type": "code",
   "execution_count": null,
   "metadata": {},
   "outputs": [],
   "source": [
    "sns.scatterplot(x='mean area',\n",
    "                y='mean compactness',\n",
    "                hue='benign',\n",
    "                data=X_test.join(y_test, how='outer'))"
   ]
  },
  {
   "cell_type": "code",
   "execution_count": null,
   "metadata": {},
   "outputs": [],
   "source": [
    "plt.scatter(X_test['mean area'],\n",
    "            X_test['mean compactness'],\n",
    "            c=y_pred,\n",
    "            cmap='coolwarm',\n",
    "            alpha=0.6)"
   ]
  },
  {
   "cell_type": "markdown",
   "metadata": {},
   "source": [
    "## 5.6 Outras métricas de avalição de performance"
   ]
  },
  {
   "cell_type": "markdown",
   "metadata": {},
   "source": [
    "### 5.6.1. Acurácia\n",
    "Diz quanto o modelo acertou das previsões possíveis. É calculada pela fórmula:\n",
    "\n",
    "\\begin{align}\n",
    "Accuracy = \\frac{TP+TN}{TP+FP+TN+FN}\n",
    "\\end{align}"
   ]
  },
  {
   "cell_type": "code",
   "execution_count": null,
   "metadata": {},
   "outputs": [],
   "source": [
    "print(f'A acurácia do modelo com k=5 é de {round(accuracy_score(y_test, y_pred), 2):.0%}.')"
   ]
  },
  {
   "cell_type": "markdown",
   "metadata": {},
   "source": [
    "### 5.6.2. F-Score\n",
    "Fornece o balanço entre a precisão e o recall do modelo. É calculado pela fórmula:\n",
    "\n",
    "\\begin{align}\n",
    "Fscore = 2*\\frac{Precision*Recall}{Precision+Recall}\n",
    "\\end{align}"
   ]
  },
  {
   "cell_type": "code",
   "execution_count": null,
   "metadata": {},
   "outputs": [],
   "source": [
    "print(f'O f-Score do modelo com k=5 é de {round(f1_score(y_test, y_pred), 2):.0%}.')"
   ]
  },
  {
   "cell_type": "markdown",
   "metadata": {},
   "source": [
    "Note que todos os cálculos acima tem como objetivo avaliar o modelo do ponto da classe para a qual estamos querendo fazer previsões, os tumores benignos. Estas métricas são utilizadas para avaliar o índice de acerto de previsão de tumores benignos. A função `classification_report` do `sklearn` fornece todas estas métricas em um tabela para cada classe do modelo, no caso, para os tumores malignos e benignos."
   ]
  },
  {
   "cell_type": "code",
   "execution_count": null,
   "metadata": {},
   "outputs": [],
   "source": [
    "print(classification_report(y_test, y_pred))"
   ]
  },
  {
   "cell_type": "markdown",
   "metadata": {},
   "source": [
    "## 5.7. O valor ótimo de k\n",
    "\n",
    "Geralmente, escolhemos um valor de k **ímpar** para evitar confusões entre duas classes, e próximo da regra de ouro, que diz que o valor de k deve ser a raiz quadrada do tamanho da amostra do conjunto de treinamento.\n",
    "\n",
    "\\begin{align}\n",
    "k=\\sqrt{n}\n",
    "\\end{align}\n",
    "\n",
    "No nosso exemplo, temos n=425, equivalente a 75% do conjunto de dados original, o **conjunto de treinamento**. Portanto,\n",
    "\n",
    "\\begin{align}\n",
    "k=\\sqrt{n}=\\sqrt{425}=20,6\n",
    "\\end{align}"
   ]
  },
  {
   "cell_type": "markdown",
   "metadata": {},
   "source": [
    "### 5.7.1. Testanto para k = 19"
   ]
  },
  {
   "cell_type": "code",
   "execution_count": 21,
   "metadata": {},
   "outputs": [
    {
     "ename": "NameError",
     "evalue": "name 'KNeighborsClassifier' is not defined",
     "output_type": "error",
     "traceback": [
      "\u001b[0;31m---------------------------------------------------------------------------\u001b[0m",
      "\u001b[0;31mNameError\u001b[0m                                 Traceback (most recent call last)",
      "\u001b[0;32m<ipython-input-21-5548899530c9>\u001b[0m in \u001b[0;36m<module>\u001b[0;34m\u001b[0m\n\u001b[0;32m----> 1\u001b[0;31m \u001b[0mknn\u001b[0m \u001b[0;34m=\u001b[0m \u001b[0mKNeighborsClassifier\u001b[0m\u001b[0;34m(\u001b[0m\u001b[0mn_neighbors\u001b[0m\u001b[0;34m=\u001b[0m\u001b[0;36m19\u001b[0m\u001b[0;34m,\u001b[0m \u001b[0mmetric\u001b[0m\u001b[0;34m=\u001b[0m\u001b[0;34m'euclidean'\u001b[0m\u001b[0;34m)\u001b[0m\u001b[0;34m\u001b[0m\u001b[0;34m\u001b[0m\u001b[0m\n\u001b[0m\u001b[1;32m      2\u001b[0m \u001b[0mknn\u001b[0m\u001b[0;34m.\u001b[0m\u001b[0mfit\u001b[0m\u001b[0;34m(\u001b[0m\u001b[0mX_train\u001b[0m\u001b[0;34m,\u001b[0m \u001b[0my_train\u001b[0m\u001b[0;34m.\u001b[0m\u001b[0mvalues\u001b[0m\u001b[0;34m.\u001b[0m\u001b[0mravel\u001b[0m\u001b[0;34m(\u001b[0m\u001b[0;34m)\u001b[0m\u001b[0;34m)\u001b[0m\u001b[0;34m\u001b[0m\u001b[0;34m\u001b[0m\u001b[0m\n\u001b[1;32m      3\u001b[0m \u001b[0my_pred\u001b[0m \u001b[0;34m=\u001b[0m \u001b[0mknn\u001b[0m\u001b[0;34m.\u001b[0m\u001b[0mpredict\u001b[0m\u001b[0;34m(\u001b[0m\u001b[0mX_test\u001b[0m\u001b[0;34m)\u001b[0m\u001b[0;34m\u001b[0m\u001b[0;34m\u001b[0m\u001b[0m\n\u001b[1;32m      4\u001b[0m \u001b[0mconfusion_matrix\u001b[0m\u001b[0;34m(\u001b[0m\u001b[0my_test\u001b[0m\u001b[0;34m,\u001b[0m \u001b[0my_pred\u001b[0m\u001b[0;34m)\u001b[0m\u001b[0;34m\u001b[0m\u001b[0;34m\u001b[0m\u001b[0m\n",
      "\u001b[0;31mNameError\u001b[0m: name 'KNeighborsClassifier' is not defined"
     ]
    }
   ],
   "source": [
    "knn = KNeighborsClassifier(n_neighbors=19, metric='euclidean')\n",
    "knn.fit(X_train, y_train.values.ravel())\n",
    "y_pred = knn.predict(X_test)\n",
    "confusion_matrix(y_test, y_pred)"
   ]
  },
  {
   "cell_type": "code",
   "execution_count": null,
   "metadata": {},
   "outputs": [],
   "source": [
    "print(f'A acurácia do modelo com k=19 é de {round(accuracy_score(y_test, y_pred), 2):.0%}.')\n",
    "print(f'O recall do modelo com k=19 é de {round(recall_score(y_test, y_pred), 2):.0%}.')\n",
    "print(f'A precisão do modelo com k=19 é de {round(precision_score(y_test, y_pred), 2):.0%}.')\n",
    "print(f'O f-Score do modelo com k=19 é de {round(f1_score(y_test, y_pred), 2):.0%}.')"
   ]
  },
  {
   "cell_type": "markdown",
   "metadata": {},
   "source": [
    "### 5.7.2. Testanto para k = 21"
   ]
  },
  {
   "cell_type": "code",
   "execution_count": null,
   "metadata": {},
   "outputs": [],
   "source": [
    "knn = KNeighborsClassifier(n_neighbors=9, metric='euclidean')\n",
    "knn.fit(X_train, y_train.values.ravel())\n",
    "y_pred = knn.predict(X_test)\n",
    "confusion_matrix(y_test, y_pred)"
   ]
  },
  {
   "cell_type": "code",
   "execution_count": null,
   "metadata": {},
   "outputs": [],
   "source": [
    "print(f'A acurácia do modelo com k=21 é de {round(accuracy_score(y_test, y_pred), 2):.0%}.')\n",
    "print(f'O recall do modelo com k=21 é de {round(recall_score(y_test, y_pred), 2):.0%}.')\n",
    "print(f'A precisão do modelo com k=21 é de {round(precision_score(y_test, y_pred), 2):.0%}.')\n",
    "print(f'O f-Score do modelo com k=21 é de {round(f1_score(y_test, y_pred), 2):.0%}.')"
   ]
  },
  {
   "cell_type": "markdown",
   "metadata": {},
   "source": [
    "## 5.8. Prós e contras do k-NN\n",
    "**Prós**\n",
    "* Fácil implementação\n",
    "* Flexível na escolha de características e distâncias\n",
    "* Funciona bem para casos com múltiplas classes\n",
    "* É um bom modelo preditivo quanto temos uma quantidade representativa de dados\n",
    "\n",
    "**Contras**\n",
    "* Precisamos determinar o valor de k\n",
    "* O custo computacional é alto uma vez que é preciso calcular a distância para cada um dos dados\n",
    "* É preciso coletar e armazenar os dados em uma base para o treinamento do algoritmo\n",
    "* É preciso saber que temos uma função de distância significativa"
   ]
  }
 ],
 "metadata": {
  "kernelspec": {
   "display_name": "Python 3",
   "language": "python",
   "name": "python3"
  },
  "language_info": {
   "codemirror_mode": {
    "name": "ipython",
    "version": 3
   },
   "file_extension": ".py",
   "mimetype": "text/x-python",
   "name": "python",
   "nbconvert_exporter": "python",
   "pygments_lexer": "ipython3",
   "version": "3.6.8"
  }
 },
 "nbformat": 4,
 "nbformat_minor": 2
}
